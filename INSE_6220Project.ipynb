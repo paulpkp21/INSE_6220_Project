{
  "nbformat": 4,
  "nbformat_minor": 0,
  "metadata": {
    "colab": {
      "provenance": [],
      "authorship_tag": "ABX9TyMySlWbcO/UH4HXb8K2Sddd",
      "include_colab_link": true
    },
    "kernelspec": {
      "name": "python3",
      "display_name": "Python 3"
    },
    "language_info": {
      "name": "python"
    }
  },
  "cells": [
    {
      "cell_type": "markdown",
      "metadata": {
        "id": "view-in-github",
        "colab_type": "text"
      },
      "source": [
        "<a href=\"https://colab.research.google.com/github/paulpkp21/INSE_6220_Project/blob/main/INSE_6220Project.ipynb\" target=\"_parent\"><img src=\"https://colab.research.google.com/assets/colab-badge.svg\" alt=\"Open In Colab\"/></a>"
      ]
    },
    {
      "cell_type": "code",
      "execution_count": null,
      "metadata": {
        "colab": {
          "base_uri": "https://localhost:8080/"
        },
        "id": "LUiJVQuUCCOw",
        "outputId": "efd1d7f1-0b47-4f17-ebd4-e7dc40c099f6"
      },
      "outputs": [
        {
          "output_type": "stream",
          "name": "stdout",
          "text": [
            "Hello Prasanta!\n"
          ]
        }
      ],
      "source": [
        "print(\"Hello Prasanta!\")"
      ]
    },
    {
      "cell_type": "code",
      "source": [
        "print (\"Prasanta Study well\")"
      ],
      "metadata": {
        "colab": {
          "base_uri": "https://localhost:8080/"
        },
        "id": "5JZn0R4bJoDD",
        "outputId": "2436b132-a2b2-4d04-ee7f-785e5debf94b"
      },
      "execution_count": null,
      "outputs": [
        {
          "output_type": "stream",
          "name": "stdout",
          "text": [
            "Prasanta Study well\n"
          ]
        }
      ]
    }
  ]
}